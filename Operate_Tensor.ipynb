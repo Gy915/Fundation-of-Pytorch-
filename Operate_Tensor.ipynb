{
 "cells": [
  {
   "cell_type": "code",
   "execution_count": null,
   "metadata": {},
   "outputs": [],
   "source": [
    "import torch"
   ]
  },
  {
   "cell_type": "code",
   "execution_count": null,
   "metadata": {},
   "outputs": [],
   "source": [
    "# 2.1 stack, cat([tensor, tensor2,...,tensorn ], dim)"
   ]
  },
  {
   "cell_type": "code",
   "execution_count": null,
   "metadata": {},
   "outputs": [],
   "source": [
    "t = torch.ones((2,3))\n",
    "t_0 = torch.cat([t, t, t], dim=0) #(6,3)\n",
    "t_1 = torch.cat([t, t], dim=1) #(2,6)\n",
    "t_2 = torch.stack([t, t], dim=2) #(2,3,2) add dim directly\n",
    "print(\"t_0:{}\\nt_1:{}\\nt_2:{}\\n\".format(t_0, t_1, t_2))"
   ]
  },
  {
   "cell_type": "code",
   "execution_count": null,
   "metadata": {},
   "outputs": [],
   "source": [
    "# 2.2 chunk(torch, dim, chunks)\n",
    "# {chunks, chunks,...., size(dim) % chunks}"
   ]
  },
  {
   "cell_type": "code",
   "execution_count": null,
   "metadata": {},
   "outputs": [],
   "source": [
    "t = torch.ones((2, 7))\n",
    "list_of_tensors = torch.chunk(t, dim=1, chunks=3)\n",
    "# 3 + 3 + 1\n",
    "for idx, t in enumerate(list_of_tensors):\n",
    "    print(\"id {}: tensor:{}, size:{}\\n\".format(idx + 1, t, t.shape))"
   ]
  },
  {
   "cell_type": "code",
   "execution_count": null,
   "metadata": {},
   "outputs": [],
   "source": [
    "# 2.3 split(torch, list, dim)\n",
    "#  split size for dim corresponding to data of list"
   ]
  },
  {
   "cell_type": "code",
   "execution_count": null,
   "metadata": {},
   "outputs": [],
   "source": [
    "t = torch.ones((2,7),device = 'cuda')\n",
    "list_of_tensors = torch.split(t, [2, 1, 4], dim=1)\n",
    "# 2 + 1 + 4\n",
    "for idx, t in enumerate(list_of_tensors):\n",
    "    print(\"id {}: tensor:{}\".format(idx + 1, t))"
   ]
  },
  {
   "cell_type": "code",
   "execution_count": null,
   "metadata": {},
   "outputs": [],
   "source": [
    "# 2.4 index_select(tensor, dim, index(list))"
   ]
  },
  {
   "cell_type": "code",
   "execution_count": null,
   "metadata": {},
   "outputs": [],
   "source": [
    "t = torch.randint(0, 9, size=(3,3))\n",
    "idx = torch.tensor([0, 2], dtype=torch.long) # Here, long is required\n",
    "t_select = torch.index_select(t, dim=0, index=idx)\n",
    "print(\"t:{}\\nt_select:{}\\n\".format(t, t_select))"
   ]
  },
  {
   "cell_type": "code",
   "execution_count": null,
   "metadata": {},
   "outputs": [],
   "source": [
    "# 2.5 mask & reshape(share the same address)"
   ]
  },
  {
   "cell_type": "code",
   "execution_count": null,
   "metadata": {},
   "outputs": [],
   "source": [
    "t = torch.randint(1,9,size=(3,3))\n",
    "mask = t.ge(1) # greater than 1 in t, uint\n",
    "t_select = torch.masked_select(t,mask)\n",
    "print(\"t:{}\\nmask:{}\\nt_select_before:{}\".format(t, mask, t_select))\n",
    "t_reshape = t_select.reshape(3, 3)\n",
    "t_reshape[0][0] = -1\n",
    "print(\"t_select_after:{}\\n t_reshape:{}\\n\".format(t_select, t_reshape))"
   ]
  },
  {
   "cell_type": "code",
   "execution_count": null,
   "metadata": {},
   "outputs": [],
   "source": [
    "# 2.6 permute(dim0, dim1... dimn)\n",
    "# (Dim0, Dim1, Dim2...Dimn)->(dim0, dim1,..., dimn)"
   ]
  },
  {
   "cell_type": "code",
   "execution_count": null,
   "metadata": {},
   "outputs": [],
   "source": [
    "t = torch.ones((1,2,3))\n",
    "t_0 = t.permute(2, 1, 0)\n",
    "print(\"t.shape:{}\\nt_0.shape:{}\\n\".format(t.shape, t_0.shape))"
   ]
  },
  {
   "cell_type": "code",
   "execution_count": null,
   "metadata": {},
   "outputs": [],
   "source": [
    "# 2.7 add(input, alpha, other)\n",
    "# out = input + alpha * other"
   ]
  },
  {
   "cell_type": "code",
   "execution_count": null,
   "metadata": {},
   "outputs": [],
   "source": [
    "t_0 = torch.randn((3,3))\n",
    "t_1 = torch.ones_like(t_0)\n",
    "t_add = torch.add(t_0, 10, t_1)\n",
    "print(\"t_0:{}\\nt_1:{}\\nt_add:{}\\n\".format(t_0, t_1, t_add))"
   ]
  }
 ],
 "metadata": {
  "kernelspec": {
   "display_name": "Python 3",
   "language": "python",
   "name": "python3"
  },
  "language_info": {
   "codemirror_mode": {
    "name": "ipython",
    "version": 3
   },
   "file_extension": ".py",
   "mimetype": "text/x-python",
   "name": "python",
   "nbconvert_exporter": "python",
   "pygments_lexer": "ipython3",
   "version": "3.7.4"
  }
 },
 "nbformat": 4,
 "nbformat_minor": 2
}
